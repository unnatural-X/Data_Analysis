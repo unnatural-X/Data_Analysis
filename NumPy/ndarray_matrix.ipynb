{
 "cells": [
  {
   "cell_type": "code",
   "execution_count": 1,
   "metadata": {
    "collapsed": true
   },
   "outputs": [
    {
     "data": {
      "text/plain": "array([[1., 2., 3.],\n       [4., 5., 6.]])"
     },
     "execution_count": 1,
     "metadata": {},
     "output_type": "execute_result"
    }
   ],
   "source": [
    "import numpy as np\n",
    "# 矩阵乘法\n",
    "# --------------------------------------------------------------\n",
    "x = np.array([[1., 2., 3.],[4., 5., 6.]])\n",
    "y = np.array([[6., 23.],[-1, 7],[8, 9]])\n",
    "x"
   ]
  },
  {
   "cell_type": "code",
   "execution_count": 2,
   "outputs": [
    {
     "data": {
      "text/plain": "array([[ 6., 23.],\n       [-1.,  7.],\n       [ 8.,  9.]])"
     },
     "execution_count": 2,
     "metadata": {},
     "output_type": "execute_result"
    }
   ],
   "source": [
    "y"
   ],
   "metadata": {
    "collapsed": false,
    "pycharm": {
     "name": "#%%\n"
    }
   }
  },
  {
   "cell_type": "code",
   "execution_count": 3,
   "outputs": [
    {
     "data": {
      "text/plain": "array([[ 28.,  64.],\n       [ 67., 181.]])"
     },
     "execution_count": 3,
     "metadata": {},
     "output_type": "execute_result"
    }
   ],
   "source": [
    "# 几种矩阵乘法\n",
    "x.dot(y)"
   ],
   "metadata": {
    "collapsed": false,
    "pycharm": {
     "name": "#%%\n"
    }
   }
  },
  {
   "cell_type": "code",
   "execution_count": 4,
   "outputs": [
    {
     "data": {
      "text/plain": "array([[ 28.,  64.],\n       [ 67., 181.]])"
     },
     "execution_count": 4,
     "metadata": {},
     "output_type": "execute_result"
    }
   ],
   "source": [
    "np.dot(x, y)"
   ],
   "metadata": {
    "collapsed": false,
    "pycharm": {
     "name": "#%%\n"
    }
   }
  },
  {
   "cell_type": "code",
   "execution_count": 5,
   "outputs": [
    {
     "data": {
      "text/plain": "array([[ 28.,  64.],\n       [ 67., 181.]])"
     },
     "execution_count": 5,
     "metadata": {},
     "output_type": "execute_result"
    }
   ],
   "source": [
    "x @ y"
   ],
   "metadata": {
    "collapsed": false,
    "pycharm": {
     "name": "#%%\n"
    }
   }
  },
  {
   "cell_type": "code",
   "execution_count": 6,
   "outputs": [
    {
     "data": {
      "text/plain": "array([[ 2.08287098,  0.85131431, -0.79445956, -0.47935867,  1.62732851],\n       [-1.64571918, -0.81841555, -0.37229055,  0.43701311, -0.77286447],\n       [-0.23294334, -1.28297412, -0.07503192, -1.74425819,  0.34310377],\n       [ 0.01207923,  0.25683118,  0.9628095 ,  0.30062388, -0.3774841 ],\n       [ 0.57467838,  0.80269116,  0.38870896,  1.03645348, -1.13455188]])"
     },
     "execution_count": 6,
     "metadata": {},
     "output_type": "execute_result"
    }
   ],
   "source": [
    "# ---------------------------------------------------------------\n",
    "# 求逆\n",
    "from numpy.linalg import inv, qr\n",
    "\n",
    "z = np.random.randn(5, 5)\n",
    "z"
   ],
   "metadata": {
    "collapsed": false,
    "pycharm": {
     "name": "#%%\n"
    }
   }
  },
  {
   "cell_type": "code",
   "execution_count": 8,
   "outputs": [
    {
     "data": {
      "text/plain": "array([[ 7.43140688,  3.8833119 , -0.78958024, -0.71207108,  3.92494732],\n       [ 3.8833119 ,  3.75083801,  0.28391033,  2.38125653,  0.57005465],\n       [-0.78958024,  0.28391033,  1.85349281,  1.04133254, -1.83531604],\n       [-0.71207108,  2.38125653,  1.04133254,  4.62781237, -3.00567848],\n       [ 3.92494732,  0.57005465, -1.83531604, -3.00567848,  4.79293998]])"
     },
     "execution_count": 8,
     "metadata": {},
     "output_type": "execute_result"
    }
   ],
   "source": [
    "mat = z.T.dot(z)\n",
    "mat"
   ],
   "metadata": {
    "collapsed": false,
    "pycharm": {
     "name": "#%%\n"
    }
   }
  },
  {
   "cell_type": "code",
   "execution_count": 9,
   "outputs": [
    {
     "data": {
      "text/plain": "array([[ 21.23555405, -42.73323643,   8.29080732,  29.45637959,\n          9.33967609],\n       [-42.73323643,  87.60130811, -17.5415623 , -60.915518  ,\n        -20.34212897],\n       [  8.29080732, -17.5415623 ,   4.56683422,  12.40982867,\n          4.82797746],\n       [ 29.45637959, -60.915518  ,  12.40982867,  42.89725705,\n         14.77626598],\n       [  9.33967609, -20.34212897,   4.82797746,  14.77626598,\n          6.09478895]])"
     },
     "execution_count": 9,
     "metadata": {},
     "output_type": "execute_result"
    }
   ],
   "source": [
    "inv(mat)  # 求逆"
   ],
   "metadata": {
    "collapsed": false,
    "pycharm": {
     "name": "#%%\n"
    }
   }
  },
  {
   "cell_type": "code",
   "execution_count": 10,
   "outputs": [
    {
     "data": {
      "text/plain": "array([[ 1.00000000e+00, -3.63957580e-15,  6.12019222e-15,\n        -1.70243726e-15, -6.93347419e-15],\n       [ 1.87564219e-15,  1.00000000e+00, -6.13692340e-15,\n        -7.51808276e-15,  1.60017101e-15],\n       [ 4.56026069e-17,  1.57244508e-14,  1.00000000e+00,\n        -9.55843316e-15,  4.32397726e-16],\n       [ 9.32974643e-15,  3.04234415e-14,  1.49291857e-17,\n         1.00000000e+00,  2.24331547e-15],\n       [ 9.72656762e-15, -1.37490358e-14,  3.65885239e-15,\n         1.73433186e-14,  1.00000000e+00]])"
     },
     "execution_count": 10,
     "metadata": {},
     "output_type": "execute_result"
    }
   ],
   "source": [
    "mat.dot(inv(mat))"
   ],
   "metadata": {
    "collapsed": false,
    "pycharm": {
     "name": "#%%\n"
    }
   }
  },
  {
   "cell_type": "code",
   "execution_count": 11,
   "outputs": [],
   "source": [
    "# ----------------------------------------------------------------\n",
    "# QR分解\n",
    "q, r = qr(mat)"
   ],
   "metadata": {
    "collapsed": false,
    "pycharm": {
     "name": "#%%\n"
    }
   }
  },
  {
   "cell_type": "code",
   "execution_count": 12,
   "outputs": [
    {
     "data": {
      "text/plain": "array([[-0.79745668, -0.03858381, -0.22181532,  0.44890348, -0.33445144],\n       [-0.41671423, -0.49415492,  0.03055347, -0.22492747,  0.72844649],\n       [ 0.08472905, -0.18766431, -0.86571575, -0.42219528, -0.17288865],\n       [ 0.07641162, -0.75435991,  0.35000995, -0.15037375, -0.52913435],\n       [-0.42118209,  0.38735699,  0.27909448, -0.73961624, -0.21825285]])"
     },
     "execution_count": 12,
     "metadata": {},
     "output_type": "execute_result"
    }
   ],
   "source": [
    "q"
   ],
   "metadata": {
    "collapsed": false,
    "pycharm": {
     "name": "#%%\n"
    }
   }
  },
  {
   "cell_type": "code",
   "execution_count": 13,
   "outputs": [
    {
     "data": {
      "text/plain": "array([[-9.31888476, -4.69388627,  1.52096338,  1.28333003, -5.77139913],\n       [ 0.        , -3.63211767, -1.95412713, -5.99996286,  4.03523073],\n       [ 0.        ,  0.        , -1.5685323 ,  0.11011805,  1.02133143],\n       [ 0.        ,  0.        ,  0.        ,  0.23224025, -0.68439776],\n       [ 0.        ,  0.        ,  0.        ,  0.        , -0.03580975]])"
     },
     "execution_count": 13,
     "metadata": {},
     "output_type": "execute_result"
    }
   ],
   "source": [
    "r"
   ],
   "metadata": {
    "collapsed": false,
    "pycharm": {
     "name": "#%%\n"
    }
   }
  },
  {
   "cell_type": "code",
   "execution_count": null,
   "outputs": [],
   "source": [],
   "metadata": {
    "collapsed": false,
    "pycharm": {
     "name": "#%%\n"
    }
   }
  }
 ],
 "metadata": {
  "kernelspec": {
   "display_name": "Python 3",
   "language": "python",
   "name": "python3"
  },
  "language_info": {
   "codemirror_mode": {
    "name": "ipython",
    "version": 2
   },
   "file_extension": ".py",
   "mimetype": "text/x-python",
   "name": "python",
   "nbconvert_exporter": "python",
   "pygments_lexer": "ipython2",
   "version": "2.7.6"
  }
 },
 "nbformat": 4,
 "nbformat_minor": 0
}